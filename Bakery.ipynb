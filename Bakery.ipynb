{
 "cells": [
  {
   "cell_type": "markdown",
   "id": "cd3db7e1",
   "metadata": {},
   "source": [
    "# Project: Datascience blog post for Bakery analysis\n",
    "\n",
    "## Datascience Process\n",
    "\n",
    "In this bakery analysis project we go through the datascience CRISP-DM process.The dataset we have will undergo all the 6 steps of datascience process which are \n",
    "<ul>-Gathering the data</ul>\n",
    "<ul>-Assessing the data</ul>\n",
    "<ul>-Cleaning the data</ul>\n",
    "<ul>-Analyzing the data</ul>\n",
    "<ul>-Modeling the data</ul>\n",
    "<ul>-Visualizing the data</ul>\n",
    "\n",
    "Lets start our process from here."
   ]
  },
  {
   "cell_type": "markdown",
   "id": "55e212c3",
   "metadata": {},
   "source": [
    "## Gathering the data\n",
    "\n",
    "### Importing dataset and libraries\n",
    "\n",
    " Data set: BreadBasket_DMS.csv <br>\n",
    " Library :pandas,numpy,io,matplot,seaborn <br>\n",
    " Data credit: Kaggle <br>\n",
    " Brief description: This csv file has the customer details and the sales information.\n"
   ]
  },
  {
   "cell_type": "code",
   "execution_count": 1,
   "id": "d1987f39",
   "metadata": {},
   "outputs": [
    {
     "name": "stdout",
     "output_type": "stream",
     "text": [
      "Libraries loaded!\n"
     ]
    }
   ],
   "source": [
    "# Import libraries\n",
    "import pandas as pd\n",
    "import numpy as np\n",
    "import io\n",
    "import matplotlib.pyplot as plt\n",
    "import seaborn as sns\n",
    "print(f'Libraries loaded!')"
   ]
  },
  {
   "cell_type": "code",
   "execution_count": 2,
   "id": "6a9bbb69",
   "metadata": {
    "scrolled": true
   },
   "outputs": [
    {
     "data": {
      "text/html": [
       "<div>\n",
       "<style scoped>\n",
       "    .dataframe tbody tr th:only-of-type {\n",
       "        vertical-align: middle;\n",
       "    }\n",
       "\n",
       "    .dataframe tbody tr th {\n",
       "        vertical-align: top;\n",
       "    }\n",
       "\n",
       "    .dataframe thead th {\n",
       "        text-align: right;\n",
       "    }\n",
       "</style>\n",
       "<table border=\"1\" class=\"dataframe\">\n",
       "  <thead>\n",
       "    <tr style=\"text-align: right;\">\n",
       "      <th></th>\n",
       "      <th>Date</th>\n",
       "      <th>Time</th>\n",
       "      <th>Transaction</th>\n",
       "      <th>Item</th>\n",
       "    </tr>\n",
       "  </thead>\n",
       "  <tbody>\n",
       "    <tr>\n",
       "      <th>0</th>\n",
       "      <td>2016-10-30</td>\n",
       "      <td>09:58:11</td>\n",
       "      <td>1</td>\n",
       "      <td>Bread</td>\n",
       "    </tr>\n",
       "    <tr>\n",
       "      <th>1</th>\n",
       "      <td>2016-10-30</td>\n",
       "      <td>10:05:34</td>\n",
       "      <td>2</td>\n",
       "      <td>Scandinavian</td>\n",
       "    </tr>\n",
       "    <tr>\n",
       "      <th>2</th>\n",
       "      <td>2016-10-30</td>\n",
       "      <td>10:05:34</td>\n",
       "      <td>2</td>\n",
       "      <td>Scandinavian</td>\n",
       "    </tr>\n",
       "    <tr>\n",
       "      <th>3</th>\n",
       "      <td>2016-10-30</td>\n",
       "      <td>10:07:57</td>\n",
       "      <td>3</td>\n",
       "      <td>Hot chocolate</td>\n",
       "    </tr>\n",
       "    <tr>\n",
       "      <th>4</th>\n",
       "      <td>2016-10-30</td>\n",
       "      <td>10:07:57</td>\n",
       "      <td>3</td>\n",
       "      <td>Jam</td>\n",
       "    </tr>\n",
       "  </tbody>\n",
       "</table>\n",
       "</div>"
      ],
      "text/plain": [
       "         Date      Time  Transaction           Item\n",
       "0  2016-10-30  09:58:11            1          Bread\n",
       "1  2016-10-30  10:05:34            2   Scandinavian\n",
       "2  2016-10-30  10:05:34            2   Scandinavian\n",
       "3  2016-10-30  10:07:57            3  Hot chocolate\n",
       "4  2016-10-30  10:07:57            3            Jam"
      ]
     },
     "execution_count": 2,
     "metadata": {},
     "output_type": "execute_result"
    }
   ],
   "source": [
    "# Open and Creating the dataset\n",
    "df_initial = pd.read_csv('BreadBasket_DMS.csv', header = 0)\n",
    "df_initial.head()"
   ]
  },
  {
   "cell_type": "markdown",
   "id": "2c9c3747",
   "metadata": {},
   "source": [
    "So the required data for the project are gathered and ready for assessment with all the required libraries loaded."
   ]
  },
  {
   "cell_type": "markdown",
   "id": "594fd173",
   "metadata": {},
   "source": [
    "## Assessing the data\n",
    "\n",
    "With all the data imported now we are assessing the data for their type,column and their null values."
   ]
  },
  {
   "cell_type": "code",
   "execution_count": 3,
   "id": "47ae67f1",
   "metadata": {},
   "outputs": [
    {
     "name": "stdout",
     "output_type": "stream",
     "text": [
      "<class 'pandas.core.frame.DataFrame'>\n",
      "RangeIndex: 21293 entries, 0 to 21292\n",
      "Data columns (total 4 columns):\n",
      " #   Column       Non-Null Count  Dtype \n",
      "---  ------       --------------  ----- \n",
      " 0   Date         21293 non-null  object\n",
      " 1   Time         21293 non-null  object\n",
      " 2   Transaction  21293 non-null  int64 \n",
      " 3   Item         21293 non-null  object\n",
      "dtypes: int64(1), object(3)\n",
      "memory usage: 665.5+ KB\n"
     ]
    },
    {
     "data": {
      "text/plain": [
       "None"
      ]
     },
     "metadata": {},
     "output_type": "display_data"
    },
    {
     "data": {
      "text/html": [
       "<div>\n",
       "<style scoped>\n",
       "    .dataframe tbody tr th:only-of-type {\n",
       "        vertical-align: middle;\n",
       "    }\n",
       "\n",
       "    .dataframe tbody tr th {\n",
       "        vertical-align: top;\n",
       "    }\n",
       "\n",
       "    .dataframe thead th {\n",
       "        text-align: right;\n",
       "    }\n",
       "</style>\n",
       "<table border=\"1\" class=\"dataframe\">\n",
       "  <thead>\n",
       "    <tr style=\"text-align: right;\">\n",
       "      <th></th>\n",
       "      <th>Transaction</th>\n",
       "    </tr>\n",
       "  </thead>\n",
       "  <tbody>\n",
       "    <tr>\n",
       "      <th>count</th>\n",
       "      <td>21293.000000</td>\n",
       "    </tr>\n",
       "    <tr>\n",
       "      <th>mean</th>\n",
       "      <td>4951.990889</td>\n",
       "    </tr>\n",
       "    <tr>\n",
       "      <th>std</th>\n",
       "      <td>2787.758400</td>\n",
       "    </tr>\n",
       "    <tr>\n",
       "      <th>min</th>\n",
       "      <td>1.000000</td>\n",
       "    </tr>\n",
       "    <tr>\n",
       "      <th>25%</th>\n",
       "      <td>2548.000000</td>\n",
       "    </tr>\n",
       "    <tr>\n",
       "      <th>50%</th>\n",
       "      <td>5067.000000</td>\n",
       "    </tr>\n",
       "    <tr>\n",
       "      <th>75%</th>\n",
       "      <td>7329.000000</td>\n",
       "    </tr>\n",
       "    <tr>\n",
       "      <th>max</th>\n",
       "      <td>9684.000000</td>\n",
       "    </tr>\n",
       "  </tbody>\n",
       "</table>\n",
       "</div>"
      ],
      "text/plain": [
       "        Transaction\n",
       "count  21293.000000\n",
       "mean    4951.990889\n",
       "std     2787.758400\n",
       "min        1.000000\n",
       "25%     2548.000000\n",
       "50%     5067.000000\n",
       "75%     7329.000000\n",
       "max     9684.000000"
      ]
     },
     "metadata": {},
     "output_type": "display_data"
    }
   ],
   "source": [
    "# Dataset info\n",
    "display(df_initial.info())\n",
    "\n",
    "# Descriptive statistics of the data\n",
    "display(df_initial.describe())"
   ]
  },
  {
   "cell_type": "markdown",
   "id": "5fef856b",
   "metadata": {},
   "source": [
    "All the properties of the data have been assessed and we are ready to clean the data."
   ]
  },
  {
   "cell_type": "markdown",
   "id": "9ec6c410",
   "metadata": {},
   "source": [
    "## Cleaning the data\n",
    "\n",
    "### Identifying the missing values\n",
    "We are trying to identify the missing values on the dataset which will help us decide further and filling gaps for our analysis.\n"
   ]
  },
  {
   "cell_type": "code",
   "execution_count": 4,
   "id": "d93ae986",
   "metadata": {},
   "outputs": [
    {
     "name": "stdout",
     "output_type": "stream",
     "text": [
      "                     Display information about column types and number of null values                     \n",
      "----------------------------------------------------------------------------------------------------\n",
      "NO missing data\n"
     ]
    },
    {
     "name": "stderr",
     "output_type": "stream",
     "text": [
      "C:\\Users\\priya\\AppData\\Local\\Temp\\ipykernel_74312\\567845142.py:6: FutureWarning: The frame.append method is deprecated and will be removed from pandas in a future version. Use pandas.concat instead.\n",
      "  tab_info = tab_info.append(pd.DataFrame(df_initial.isnull().sum()).T.rename(index={0:'null values'}))\n",
      "C:\\Users\\priya\\AppData\\Local\\Temp\\ipykernel_74312\\567845142.py:7: FutureWarning: The frame.append method is deprecated and will be removed from pandas in a future version. Use pandas.concat instead.\n",
      "  tab_info = tab_info.append(pd.DataFrame(df_initial.isnull().sum()/df_initial.shape[0]*100).T.rename(index={0:'null values (%)'}))\n"
     ]
    }
   ],
   "source": [
    "# Identify missing values on dataset\n",
    "print('  ' * 10 + \" Display information about column types and number of null values \" + '  ' * 10 )\n",
    "print('--' * 50)\n",
    "\n",
    "tab_info = pd.DataFrame(df_initial.dtypes).T.rename(index={0:'column type'})\n",
    "tab_info = tab_info.append(pd.DataFrame(df_initial.isnull().sum()).T.rename(index={0:'null values'}))\n",
    "tab_info = tab_info.append(pd.DataFrame(df_initial.isnull().sum()/df_initial.shape[0]*100).T.rename(index={0:'null values (%)'}))\n",
    "\n",
    "if(any(df_initial.isnull().any())):\n",
    "    print()\n",
    "    display(tab_info)\n",
    "else:\n",
    "    print('NO missing data')"
   ]
  },
  {
   "cell_type": "markdown",
   "id": "4a362615",
   "metadata": {},
   "source": [
    "From the above code we identify that there are no missing data.\n",
    "\n",
    "### Identifying the 'hidden' missing values\n"
   ]
  },
  {
   "cell_type": "code",
   "execution_count": 5,
   "id": "0215be6c",
   "metadata": {},
   "outputs": [
    {
     "name": "stdout",
     "output_type": "stream",
     "text": [
      "---------------------------------------------------------\n",
      "There are 786 'hidden' missing values in the 'Item'column.\n",
      "There are 0 'hidden' missing values in the 'Transaction'.\n",
      "---------------------------------------------------------\n"
     ]
    },
    {
     "data": {
      "text/html": [
       "<div>\n",
       "<style scoped>\n",
       "    .dataframe tbody tr th:only-of-type {\n",
       "        vertical-align: middle;\n",
       "    }\n",
       "\n",
       "    .dataframe tbody tr th {\n",
       "        vertical-align: top;\n",
       "    }\n",
       "\n",
       "    .dataframe thead th {\n",
       "        text-align: right;\n",
       "    }\n",
       "</style>\n",
       "<table border=\"1\" class=\"dataframe\">\n",
       "  <thead>\n",
       "    <tr style=\"text-align: right;\">\n",
       "      <th></th>\n",
       "      <th>Date</th>\n",
       "      <th>Time</th>\n",
       "      <th>Transaction</th>\n",
       "      <th>Item</th>\n",
       "    </tr>\n",
       "  </thead>\n",
       "  <tbody>\n",
       "    <tr>\n",
       "      <th>26</th>\n",
       "      <td>2016-10-30</td>\n",
       "      <td>10:27:21</td>\n",
       "      <td>11</td>\n",
       "      <td>NONE</td>\n",
       "    </tr>\n",
       "    <tr>\n",
       "      <th>38</th>\n",
       "      <td>2016-10-30</td>\n",
       "      <td>10:34:36</td>\n",
       "      <td>15</td>\n",
       "      <td>NONE</td>\n",
       "    </tr>\n",
       "    <tr>\n",
       "      <th>39</th>\n",
       "      <td>2016-10-30</td>\n",
       "      <td>10:34:36</td>\n",
       "      <td>15</td>\n",
       "      <td>NONE</td>\n",
       "    </tr>\n",
       "    <tr>\n",
       "      <th>66</th>\n",
       "      <td>2016-10-30</td>\n",
       "      <td>11:05:30</td>\n",
       "      <td>29</td>\n",
       "      <td>NONE</td>\n",
       "    </tr>\n",
       "    <tr>\n",
       "      <th>80</th>\n",
       "      <td>2016-10-30</td>\n",
       "      <td>11:37:10</td>\n",
       "      <td>37</td>\n",
       "      <td>NONE</td>\n",
       "    </tr>\n",
       "  </tbody>\n",
       "</table>\n",
       "</div>"
      ],
      "text/plain": [
       "          Date      Time  Transaction  Item\n",
       "26  2016-10-30  10:27:21           11  NONE\n",
       "38  2016-10-30  10:34:36           15  NONE\n",
       "39  2016-10-30  10:34:36           15  NONE\n",
       "66  2016-10-30  11:05:30           29  NONE\n",
       "80  2016-10-30  11:37:10           37  NONE"
      ]
     },
     "execution_count": 5,
     "metadata": {},
     "output_type": "execute_result"
    }
   ],
   "source": [
    "#Let's check the 'hidden' missing values in the dataset\n",
    "missing_value = [\"NaN\", \"NONE\", \"None\", \"Nil\", \"nan\", \"none\", \"nil\", 0]\n",
    "\n",
    "print('---------------------------------------------------------')\n",
    "print(\"There are {0} 'hidden' missing values in the 'Item'column.\".format(len(df_initial[df_initial.Item.isin(missing_value)])))\n",
    "print(\"There are {0} 'hidden' missing values in the 'Transaction'.\".format(len(df_initial[df_initial.Transaction.isin(missing_value)])))\n",
    "print('---------------------------------------------------------')\n",
    "df_initial[df_initial.Item.isin(missing_value)].head()"
   ]
  },
  {
   "cell_type": "markdown",
   "id": "5d6059f0",
   "metadata": {},
   "source": [
    "From the above code we understand that there are 786 hidden missing values like \"NaN\", \"NONE\", \"None\", \"Nil\", \"nan\", \"none\", \"nil\", 0 in the column \"ITEM\" and 0 missing values in thr column \"Transaction\"\n",
    "### Dropping the missing values"
   ]
  },
  {
   "cell_type": "code",
   "execution_count": 6,
   "id": "3fe2d105",
   "metadata": {},
   "outputs": [
    {
     "name": "stdout",
     "output_type": "stream",
     "text": [
      "Number of rows: 20,507 (original 21,293) \n",
      "----------------------------------------\n"
     ]
    },
    {
     "data": {
      "text/html": [
       "<div>\n",
       "<style scoped>\n",
       "    .dataframe tbody tr th:only-of-type {\n",
       "        vertical-align: middle;\n",
       "    }\n",
       "\n",
       "    .dataframe tbody tr th {\n",
       "        vertical-align: top;\n",
       "    }\n",
       "\n",
       "    .dataframe thead th {\n",
       "        text-align: right;\n",
       "    }\n",
       "</style>\n",
       "<table border=\"1\" class=\"dataframe\">\n",
       "  <thead>\n",
       "    <tr style=\"text-align: right;\">\n",
       "      <th></th>\n",
       "      <th>Date</th>\n",
       "      <th>Time</th>\n",
       "      <th>Transaction</th>\n",
       "      <th>Item</th>\n",
       "    </tr>\n",
       "  </thead>\n",
       "  <tbody>\n",
       "    <tr>\n",
       "      <th>0</th>\n",
       "      <td>2016-10-30</td>\n",
       "      <td>09:58:11</td>\n",
       "      <td>1</td>\n",
       "      <td>Bread</td>\n",
       "    </tr>\n",
       "    <tr>\n",
       "      <th>1</th>\n",
       "      <td>2016-10-30</td>\n",
       "      <td>10:05:34</td>\n",
       "      <td>2</td>\n",
       "      <td>Scandinavian</td>\n",
       "    </tr>\n",
       "    <tr>\n",
       "      <th>2</th>\n",
       "      <td>2016-10-30</td>\n",
       "      <td>10:05:34</td>\n",
       "      <td>2</td>\n",
       "      <td>Scandinavian</td>\n",
       "    </tr>\n",
       "    <tr>\n",
       "      <th>3</th>\n",
       "      <td>2016-10-30</td>\n",
       "      <td>10:07:57</td>\n",
       "      <td>3</td>\n",
       "      <td>Hot chocolate</td>\n",
       "    </tr>\n",
       "    <tr>\n",
       "      <th>4</th>\n",
       "      <td>2016-10-30</td>\n",
       "      <td>10:07:57</td>\n",
       "      <td>3</td>\n",
       "      <td>Jam</td>\n",
       "    </tr>\n",
       "  </tbody>\n",
       "</table>\n",
       "</div>"
      ],
      "text/plain": [
       "         Date      Time  Transaction           Item\n",
       "0  2016-10-30  09:58:11            1          Bread\n",
       "1  2016-10-30  10:05:34            2   Scandinavian\n",
       "2  2016-10-30  10:05:34            2   Scandinavian\n",
       "3  2016-10-30  10:07:57            3  Hot chocolate\n",
       "4  2016-10-30  10:07:57            3            Jam"
      ]
     },
     "execution_count": 6,
     "metadata": {},
     "output_type": "execute_result"
    }
   ],
   "source": [
    "# Selecting the row values to drop in the selected column\n",
    "bread = df_initial.drop(df_initial[df_initial.Item == \"NONE\"].index)\n",
    "print(\"Number of rows: {0:,} (original 21,293) \".format(len(bread)))\n",
    "print('----------------------------------------')\n",
    "bread.head()\n",
    "\n",
    "# After removing the missing values, the number of rows left is 20,507 (original 21,293 minus 786 missing)"
   ]
  },
  {
   "cell_type": "markdown",
   "id": "408fe421",
   "metadata": {},
   "source": [
    "So from the above output we understand that 20507 rows containing missing hidden values have been dropped.\n",
    "\n",
    "## Analyzing and Modeling the data\n",
    "\n",
    "### Creating a column for our analysis\n",
    "To make a clear analysis we are creating a column DateTimeIndex which concatenates the date and time."
   ]
  },
  {
   "cell_type": "code",
   "execution_count": 7,
   "id": "02a89871",
   "metadata": {},
   "outputs": [
    {
     "data": {
      "text/html": [
       "<div>\n",
       "<style scoped>\n",
       "    .dataframe tbody tr th:only-of-type {\n",
       "        vertical-align: middle;\n",
       "    }\n",
       "\n",
       "    .dataframe tbody tr th {\n",
       "        vertical-align: top;\n",
       "    }\n",
       "\n",
       "    .dataframe thead th {\n",
       "        text-align: right;\n",
       "    }\n",
       "</style>\n",
       "<table border=\"1\" class=\"dataframe\">\n",
       "  <thead>\n",
       "    <tr style=\"text-align: right;\">\n",
       "      <th></th>\n",
       "      <th>Transaction</th>\n",
       "      <th>Item</th>\n",
       "    </tr>\n",
       "    <tr>\n",
       "      <th>Datetime</th>\n",
       "      <th></th>\n",
       "      <th></th>\n",
       "    </tr>\n",
       "  </thead>\n",
       "  <tbody>\n",
       "    <tr>\n",
       "      <th>2016-10-30 09:58:11</th>\n",
       "      <td>1</td>\n",
       "      <td>Bread</td>\n",
       "    </tr>\n",
       "    <tr>\n",
       "      <th>2016-10-30 10:05:34</th>\n",
       "      <td>2</td>\n",
       "      <td>Scandinavian</td>\n",
       "    </tr>\n",
       "    <tr>\n",
       "      <th>2016-10-30 10:05:34</th>\n",
       "      <td>2</td>\n",
       "      <td>Scandinavian</td>\n",
       "    </tr>\n",
       "    <tr>\n",
       "      <th>2016-10-30 10:07:57</th>\n",
       "      <td>3</td>\n",
       "      <td>Hot chocolate</td>\n",
       "    </tr>\n",
       "    <tr>\n",
       "      <th>2016-10-30 10:07:57</th>\n",
       "      <td>3</td>\n",
       "      <td>Jam</td>\n",
       "    </tr>\n",
       "  </tbody>\n",
       "</table>\n",
       "</div>"
      ],
      "text/plain": [
       "                     Transaction           Item\n",
       "Datetime                                       \n",
       "2016-10-30 09:58:11            1          Bread\n",
       "2016-10-30 10:05:34            2   Scandinavian\n",
       "2016-10-30 10:05:34            2   Scandinavian\n",
       "2016-10-30 10:07:57            3  Hot chocolate\n",
       "2016-10-30 10:07:57            3            Jam"
      ]
     },
     "execution_count": 7,
     "metadata": {},
     "output_type": "execute_result"
    }
   ],
   "source": [
    "# Creating a column of DateTimeIndex\n",
    "bread['Datetime'] = pd.to_datetime(bread['Date'] + ' ' + bread['Time'])\n",
    "bread = bread[[\"Datetime\", \"Transaction\", \"Item\"]].set_index(\"Datetime\")\n",
    "bread.head()"
   ]
  },
  {
   "cell_type": "markdown",
   "id": "b66143c1",
   "metadata": {},
   "source": [
    "Here is the new column Datetime created with concatenating the date and time.\n",
    "### Extracting information for further analysis\n",
    "Now we are extracting hour of the day and weekday of the week .The day of the week are Monday=0, Sunday=6, thereby +1 to become Monday=1, Sunday=7"
   ]
  },
  {
   "cell_type": "code",
   "execution_count": 8,
   "id": "9a8b0a78",
   "metadata": {},
   "outputs": [
    {
     "data": {
      "text/html": [
       "<div>\n",
       "<style scoped>\n",
       "    .dataframe tbody tr th:only-of-type {\n",
       "        vertical-align: middle;\n",
       "    }\n",
       "\n",
       "    .dataframe tbody tr th {\n",
       "        vertical-align: top;\n",
       "    }\n",
       "\n",
       "    .dataframe thead th {\n",
       "        text-align: right;\n",
       "    }\n",
       "</style>\n",
       "<table border=\"1\" class=\"dataframe\">\n",
       "  <thead>\n",
       "    <tr style=\"text-align: right;\">\n",
       "      <th></th>\n",
       "      <th>Transaction</th>\n",
       "      <th>Item</th>\n",
       "      <th>Hour</th>\n",
       "      <th>Weekday</th>\n",
       "    </tr>\n",
       "    <tr>\n",
       "      <th>Datetime</th>\n",
       "      <th></th>\n",
       "      <th></th>\n",
       "      <th></th>\n",
       "      <th></th>\n",
       "    </tr>\n",
       "  </thead>\n",
       "  <tbody>\n",
       "    <tr>\n",
       "      <th>2016-10-30 09:58:11</th>\n",
       "      <td>1</td>\n",
       "      <td>Bread</td>\n",
       "      <td>9</td>\n",
       "      <td>7</td>\n",
       "    </tr>\n",
       "    <tr>\n",
       "      <th>2016-10-30 10:05:34</th>\n",
       "      <td>2</td>\n",
       "      <td>Scandinavian</td>\n",
       "      <td>10</td>\n",
       "      <td>7</td>\n",
       "    </tr>\n",
       "    <tr>\n",
       "      <th>2016-10-30 10:05:34</th>\n",
       "      <td>2</td>\n",
       "      <td>Scandinavian</td>\n",
       "      <td>10</td>\n",
       "      <td>7</td>\n",
       "    </tr>\n",
       "    <tr>\n",
       "      <th>2016-10-30 10:07:57</th>\n",
       "      <td>3</td>\n",
       "      <td>Hot chocolate</td>\n",
       "      <td>10</td>\n",
       "      <td>7</td>\n",
       "    </tr>\n",
       "    <tr>\n",
       "      <th>2016-10-30 10:07:57</th>\n",
       "      <td>3</td>\n",
       "      <td>Jam</td>\n",
       "      <td>10</td>\n",
       "      <td>7</td>\n",
       "    </tr>\n",
       "  </tbody>\n",
       "</table>\n",
       "</div>"
      ],
      "text/plain": [
       "                     Transaction           Item  Hour  Weekday\n",
       "Datetime                                                      \n",
       "2016-10-30 09:58:11            1          Bread     9        7\n",
       "2016-10-30 10:05:34            2   Scandinavian    10        7\n",
       "2016-10-30 10:05:34            2   Scandinavian    10        7\n",
       "2016-10-30 10:07:57            3  Hot chocolate    10        7\n",
       "2016-10-30 10:07:57            3            Jam    10        7"
      ]
     },
     "execution_count": 8,
     "metadata": {},
     "output_type": "execute_result"
    }
   ],
   "source": [
    "# Extract hour of the day and weekday of the week\n",
    "# For Datetimeindex: the day of the week are Monday=0, Sunday=6, thereby +1 to become Monday=1, Sunday=7\n",
    "bread[\"Hour\"] = bread.index.hour\n",
    "bread[\"Weekday\"] = bread.index.weekday + 1\n",
    "\n",
    "bread.head()"
   ]
  },
  {
   "cell_type": "markdown",
   "id": "a1b32752",
   "metadata": {},
   "source": [
    "With this analysis we understand the sales in an hour in a day clearly which will be helpful for our later analysis.\n",
    "### Analysing sales details\n",
    "Here we are trying to understand the items sold in the bakery ,total sales and average daily sales."
   ]
  },
  {
   "cell_type": "code",
   "execution_count": 9,
   "id": "5d1b50a2",
   "metadata": {},
   "outputs": [
    {
     "name": "stdout",
     "output_type": "stream",
     "text": [
      "Total unique_items: 94 sold by the Bakery\n",
      "-----------------------------\n",
      "Total sales: 20507 items sold in 159 days throughout 7 months\n",
      "-----------------------------\n",
      "Average_items daily sales: 128\n"
     ]
    }
   ],
   "source": [
    "total_items = len(bread)\n",
    "total_days = len(np.unique(bread.index.date))\n",
    "total_months = len(np.unique(bread.index.month))\n",
    "average_items = int(total_items / total_days)\n",
    "unique_items = bread.Item.unique().size\n",
    "\n",
    "print(\"Total unique_items: {} sold by the Bakery\".format(unique_items))\n",
    "print('-----------------------------')\n",
    "print(\"Total sales: {} items sold in {} days throughout {} months\".format(total_items, total_days, total_months))\n",
    "print('-----------------------------')\n",
    "print(\"Average_items daily sales: {}\".format(average_items))"
   ]
  },
  {
   "cell_type": "markdown",
   "id": "fe83c479",
   "metadata": {},
   "source": [
    "Above data says that 94 unique items are there in the bakery.The total sales are 20507 items sold through out 159 days in 7 months and their avarage daily sales is 128.\n",
    "\n",
    "## Q1.Top 10 selling Items\n",
    "\n",
    "From our analysis we are trying to understand the top 10 selling items"
   ]
  },
  {
   "cell_type": "code",
   "execution_count": 10,
   "id": "2a92629d",
   "metadata": {},
   "outputs": [
    {
     "name": "stdout",
     "output_type": "stream",
     "text": [
      "-----------------------------\n",
      "Top 10 items\n",
      "-----------------------------\n"
     ]
    },
    {
     "data": {
      "text/html": [
       "<div>\n",
       "<style scoped>\n",
       "    .dataframe tbody tr th:only-of-type {\n",
       "        vertical-align: middle;\n",
       "    }\n",
       "\n",
       "    .dataframe tbody tr th {\n",
       "        vertical-align: top;\n",
       "    }\n",
       "\n",
       "    .dataframe thead th {\n",
       "        text-align: right;\n",
       "    }\n",
       "</style>\n",
       "<table border=\"1\" class=\"dataframe\">\n",
       "  <thead>\n",
       "    <tr style=\"text-align: right;\">\n",
       "      <th></th>\n",
       "      <th>counts</th>\n",
       "      <th>%</th>\n",
       "    </tr>\n",
       "  </thead>\n",
       "  <tbody>\n",
       "    <tr>\n",
       "      <th>Coffee</th>\n",
       "      <td>5471</td>\n",
       "      <td>26.7%</td>\n",
       "    </tr>\n",
       "    <tr>\n",
       "      <th>Bread</th>\n",
       "      <td>3325</td>\n",
       "      <td>16.2%</td>\n",
       "    </tr>\n",
       "    <tr>\n",
       "      <th>Tea</th>\n",
       "      <td>1435</td>\n",
       "      <td>7.0%</td>\n",
       "    </tr>\n",
       "    <tr>\n",
       "      <th>Cake</th>\n",
       "      <td>1025</td>\n",
       "      <td>5.0%</td>\n",
       "    </tr>\n",
       "    <tr>\n",
       "      <th>Pastry</th>\n",
       "      <td>856</td>\n",
       "      <td>4.2%</td>\n",
       "    </tr>\n",
       "    <tr>\n",
       "      <th>Sandwich</th>\n",
       "      <td>771</td>\n",
       "      <td>3.8%</td>\n",
       "    </tr>\n",
       "    <tr>\n",
       "      <th>Medialuna</th>\n",
       "      <td>616</td>\n",
       "      <td>3.0%</td>\n",
       "    </tr>\n",
       "    <tr>\n",
       "      <th>Hot chocolate</th>\n",
       "      <td>590</td>\n",
       "      <td>2.9%</td>\n",
       "    </tr>\n",
       "    <tr>\n",
       "      <th>Cookies</th>\n",
       "      <td>540</td>\n",
       "      <td>2.6%</td>\n",
       "    </tr>\n",
       "    <tr>\n",
       "      <th>Brownie</th>\n",
       "      <td>379</td>\n",
       "      <td>1.8%</td>\n",
       "    </tr>\n",
       "  </tbody>\n",
       "</table>\n",
       "</div>"
      ],
      "text/plain": [
       "               counts      %\n",
       "Coffee           5471  26.7%\n",
       "Bread            3325  16.2%\n",
       "Tea              1435   7.0%\n",
       "Cake             1025   5.0%\n",
       "Pastry            856   4.2%\n",
       "Sandwich          771   3.8%\n",
       "Medialuna         616   3.0%\n",
       "Hot chocolate     590   2.9%\n",
       "Cookies           540   2.6%\n",
       "Brownie           379   1.8%"
      ]
     },
     "metadata": {},
     "output_type": "display_data"
    }
   ],
   "source": [
    "# Rank the top 10 best-selling items\n",
    "counts = bread.Item.value_counts()\n",
    "percent = bread.Item.value_counts(normalize=True).mul(100).round(1).astype(str) + '%'\n",
    "top_10 = pd.DataFrame({'counts': counts, '%': percent})[:10]\n",
    "\n",
    "print('-----------------------------')\n",
    "print('Top 10 items')\n",
    "print('-----------------------------')\n",
    "display(top_10)"
   ]
  },
  {
   "cell_type": "markdown",
   "id": "d1cdc1cd",
   "metadata": {},
   "source": [
    "Coffee,Bread,Tea,cake,pastry,sandwitch,medialuna,hot chocolate ,cookies and brownie always remain the best selling items irrespective of percentage or number.So in order to run a bakery thier primary focus should have these top 10 selling items.\n",
    "\n",
    "## Visualization of data\n",
    "We here use a function for barchart and docstring explaining for better visualization and understanding of the top 10 selling items by percentage and value."
   ]
  },
  {
   "cell_type": "code",
   "execution_count": 11,
   "id": "094ad75e",
   "metadata": {},
   "outputs": [
    {
     "data": {
      "image/png": "[encoded data removed]",
      "text/plain": [
       "<Figure size 576x360 with 1 Axes>"
      ]
     },
     "metadata": {
      "needs_background": "light"
     },
     "output_type": "display_data"
    },
    {
     "data": {
      "image/png": "[encoded data removed]",
      "text/plain": [
       "<Figure size 576x360 with 1 Axes>"
      ]
     },
     "metadata": {
      "needs_background": "light"
     },
     "output_type": "display_data"
    }
   ],
   "source": [
    "def ranking(boolean,axis):\n",
    "    '''\n",
    "    This function provides a barchart of top 10 selling items in the bakery.\n",
    "    This is shown by percentage and number of items sold in the bakery.\n",
    "    Input:col1(boolean),col2(axis)\n",
    "    Output:Barchart of percentage and number of items sold in the bakery.\n",
    "    '''\n",
    "    plt.figure(figsize=(8,5))\n",
    "    bread.Item.value_counts(normalize=boolean)[:10].plot(kind=\"bar\", title=axis+\" of Sales by Item\").set(xlabel=\"Item\", ylabel=axis)\n",
    "    plt.show()\n",
    "    \n",
    "ranking(True,\"Percentage\")\n",
    "ranking(False,\"Number\")\n"
   ]
  },
  {
   "cell_type": "markdown",
   "id": "28d91285",
   "metadata": {},
   "source": [
    "The above barchart shows the visualization and understanding of the top 10 selling items by percentage and value."
   ]
  },
  {
   "cell_type": "markdown",
   "id": "61f3eac7",
   "metadata": {},
   "source": [
    "## Q2.Number of items sold in a date,month and hour\n",
    "\n",
    "For our next question we made a chart based on the number of items sold in a day month and hour."
   ]
  },
  {
   "cell_type": "code",
   "execution_count": 12,
   "id": "710f1d7f",
   "metadata": {},
   "outputs": [
    {
     "data": {
      "image/png": "[encoded data removed]",
      "text/plain": [
       "<Figure size 1080x360 with 1 Axes>"
      ]
     },
     "metadata": {
      "needs_background": "light"
     },
     "output_type": "display_data"
    }
   ],
   "source": [
    "# Number of items sold by day\n",
    "bread[\"Item\"].resample(\"D\").count().plot(figsize=(15,5), grid=True, title=\"Total Number of Items Sold by Date\").set(xlabel=\"Date\", ylabel=\"Total Number of Items Sold\")\n",
    "plt.show()"
   ]
  },
  {
   "cell_type": "markdown",
   "id": "eadc78c0",
   "metadata": {},
   "source": [
    "This is the chart showing the items sold by date\n",
    "The below line graph shows the number of items sold by month."
   ]
  },
  {
   "cell_type": "code",
   "execution_count": 13,
   "id": "8f0d4410",
   "metadata": {},
   "outputs": [
    {
     "data": {
      "image/png": "[encoded data removed]",
      "text/plain": [
       "<Figure size 1080x360 with 1 Axes>"
      ]
     },
     "metadata": {
      "needs_background": "light"
     },
     "output_type": "display_data"
    }
   ],
   "source": [
    "# Number of items sold by month\n",
    "bread[\"Item\"].resample(\"M\").count().plot(figsize=(15,5), grid=True, title=\"Total Number by Items Sold by Month\").set(xlabel=\"Date\", ylabel=\"Total Number of Items Sold\")\n",
    "plt.show()"
   ]
  },
  {
   "cell_type": "markdown",
   "id": "34da0f72",
   "metadata": {},
   "source": [
    "The below line graph shows the number of items sold by hour"
   ]
  },
  {
   "cell_type": "code",
   "execution_count": 14,
   "id": "0c75c612",
   "metadata": {},
   "outputs": [
    {
     "name": "stdout",
     "output_type": "stream",
     "text": [
      "           Item\n",
      "Hour           \n",
      "1      0.006289\n",
      "7      0.150943\n",
      "8      4.056604\n",
      "9     12.364780\n",
      "10    16.767296\n",
      "11    19.509434\n",
      "12    17.949686\n",
      "13    16.459119\n",
      "14    16.603774\n",
      "15    13.301887\n",
      "16     8.446541\n",
      "17     2.314465\n",
      "18     0.515723\n",
      "19     0.301887\n",
      "20     0.138365\n",
      "21     0.018868\n",
      "22     0.050314\n",
      "23     0.018868\n"
     ]
    },
    {
     "data": {
      "image/png": "[encoded data removed]",
      "text/plain": [
       "<Figure size 576x360 with 1 Axes>"
      ]
     },
     "metadata": {
      "needs_background": "light"
     },
     "output_type": "display_data"
    }
   ],
   "source": [
    "# Aggregate item sold by hour\n",
    "bread_groupby_hour = bread.groupby(\"Hour\").agg({\"Item\": lambda item: item.count()/total_days})\n",
    "print(bread_groupby_hour)\n",
    "\n",
    "# Plot items sold by hour\n",
    "plt.figure(figsize=(8,5))\n",
    "sns.countplot(x='Hour',data=bread)\n",
    "plt.title('Items Sales by hour')\n",
    "plt.show()"
   ]
  },
  {
   "cell_type": "markdown",
   "id": "676a66fe",
   "metadata": {},
   "source": [
    "The above line graph shows the number of items sold by hour and it says lunch time are peak time in sales which they should focus more.\n",
    "## Q3.Sales by weekday\n",
    "Now for our question 3 we are trying to find the sales by each weekday and thier average sales.So first we groupby sales on each weekday then ind out how many in each weekday period of transaction in order to calculate the average items per weekday and then calculate the average items for each weekday."
   ]
  },
  {
   "cell_type": "code",
   "execution_count": 15,
   "id": "50d6fcf0",
   "metadata": {},
   "outputs": [
    {
     "data": {
      "text/html": [
       "<div>\n",
       "<style scoped>\n",
       "    .dataframe tbody tr th:only-of-type {\n",
       "        vertical-align: middle;\n",
       "    }\n",
       "\n",
       "    .dataframe tbody tr th {\n",
       "        vertical-align: top;\n",
       "    }\n",
       "\n",
       "    .dataframe thead th {\n",
       "        text-align: right;\n",
       "    }\n",
       "</style>\n",
       "<table border=\"1\" class=\"dataframe\">\n",
       "  <thead>\n",
       "    <tr style=\"text-align: right;\">\n",
       "      <th></th>\n",
       "      <th>Item</th>\n",
       "    </tr>\n",
       "    <tr>\n",
       "      <th>Weekday</th>\n",
       "      <th></th>\n",
       "    </tr>\n",
       "  </thead>\n",
       "  <tbody>\n",
       "    <tr>\n",
       "      <th>1</th>\n",
       "      <td>2324</td>\n",
       "    </tr>\n",
       "    <tr>\n",
       "      <th>2</th>\n",
       "      <td>2392</td>\n",
       "    </tr>\n",
       "    <tr>\n",
       "      <th>3</th>\n",
       "      <td>2321</td>\n",
       "    </tr>\n",
       "    <tr>\n",
       "      <th>4</th>\n",
       "      <td>2646</td>\n",
       "    </tr>\n",
       "    <tr>\n",
       "      <th>5</th>\n",
       "      <td>3124</td>\n",
       "    </tr>\n",
       "  </tbody>\n",
       "</table>\n",
       "</div>"
      ],
      "text/plain": [
       "         Item\n",
       "Weekday      \n",
       "1        2324\n",
       "2        2392\n",
       "3        2321\n",
       "4        2646\n",
       "5        3124"
      ]
     },
     "execution_count": 15,
     "metadata": {},
     "output_type": "execute_result"
    }
   ],
   "source": [
    "# sales groupby weekday\n",
    "bread_groupby_weekday = bread.groupby(\"Weekday\").agg({\"Item\": lambda item: item.count()})\n",
    "bread_groupby_weekday.head()"
   ]
  },
  {
   "cell_type": "code",
   "execution_count": 16,
   "id": "3a5f3836",
   "metadata": {},
   "outputs": [
    {
     "name": "stdout",
     "output_type": "stream",
     "text": [
      "monday = 21, tuesday = 23, wednesday = 23, thursday = 23, friday = 23, saturday = 23, sunday = 23, total = 159\n"
     ]
    }
   ],
   "source": [
    "# but we need to find out how many in each weekday period of transaction\n",
    "# in order to calculate the average items per weekday\n",
    "\n",
    "import datetime \n",
    "daterange = pd.date_range(datetime.date(2016, 10, 30), datetime.date(2017, 4, 9))\n",
    "\n",
    "monday = 0\n",
    "tuesday = 0\n",
    "wednesday = 0\n",
    "thursday = 0\n",
    "friday = 0\n",
    "saturday = 0\n",
    "sunday = 0\n",
    "\n",
    "for day in np.unique(bread.index.date):\n",
    "    if day.isoweekday() == 1:\n",
    "        monday += 1\n",
    "    elif day.isoweekday() == 2:\n",
    "        tuesday += 1\n",
    "    elif day.isoweekday() == 3:\n",
    "        wednesday += 1\n",
    "    elif day.isoweekday() == 4:\n",
    "        thursday += 1        \n",
    "    elif day.isoweekday() == 5:\n",
    "        friday += 1        \n",
    "    elif day.isoweekday() == 6:\n",
    "        saturday += 1        \n",
    "    elif day.isoweekday() == 7:\n",
    "        sunday += 1        \n",
    "        \n",
    "all_weekdays = monday + tuesday + wednesday + thursday + friday + saturday + sunday\n",
    "\n",
    "print(\"monday = {0}, tuesday = {1}, wednesday = {2}, thursday = {3}, friday = {4}, saturday = {5}, sunday = {6}, total = {7}\".format(monday, tuesday, wednesday, thursday, friday, saturday, sunday, all_weekdays))"
   ]
  },
  {
   "cell_type": "code",
   "execution_count": 17,
   "id": "90848969",
   "metadata": {},
   "outputs": [
    {
     "data": {
      "text/html": [
       "<div>\n",
       "<style scoped>\n",
       "    .dataframe tbody tr th:only-of-type {\n",
       "        vertical-align: middle;\n",
       "    }\n",
       "\n",
       "    .dataframe tbody tr th {\n",
       "        vertical-align: top;\n",
       "    }\n",
       "\n",
       "    .dataframe thead th {\n",
       "        text-align: right;\n",
       "    }\n",
       "</style>\n",
       "<table border=\"1\" class=\"dataframe\">\n",
       "  <thead>\n",
       "    <tr style=\"text-align: right;\">\n",
       "      <th></th>\n",
       "      <th>Item</th>\n",
       "      <th>Average</th>\n",
       "    </tr>\n",
       "    <tr>\n",
       "      <th>Weekday</th>\n",
       "      <th></th>\n",
       "      <th></th>\n",
       "    </tr>\n",
       "  </thead>\n",
       "  <tbody>\n",
       "    <tr>\n",
       "      <th>1</th>\n",
       "      <td>2324</td>\n",
       "      <td>110.666667</td>\n",
       "    </tr>\n",
       "    <tr>\n",
       "      <th>2</th>\n",
       "      <td>2392</td>\n",
       "      <td>104.000000</td>\n",
       "    </tr>\n",
       "    <tr>\n",
       "      <th>3</th>\n",
       "      <td>2321</td>\n",
       "      <td>100.913043</td>\n",
       "    </tr>\n",
       "    <tr>\n",
       "      <th>4</th>\n",
       "      <td>2646</td>\n",
       "      <td>115.043478</td>\n",
       "    </tr>\n",
       "    <tr>\n",
       "      <th>5</th>\n",
       "      <td>3124</td>\n",
       "      <td>135.826087</td>\n",
       "    </tr>\n",
       "    <tr>\n",
       "      <th>6</th>\n",
       "      <td>4605</td>\n",
       "      <td>200.217391</td>\n",
       "    </tr>\n",
       "    <tr>\n",
       "      <th>7</th>\n",
       "      <td>3095</td>\n",
       "      <td>134.565217</td>\n",
       "    </tr>\n",
       "  </tbody>\n",
       "</table>\n",
       "</div>"
      ],
      "text/plain": [
       "         Item     Average\n",
       "Weekday                  \n",
       "1        2324  110.666667\n",
       "2        2392  104.000000\n",
       "3        2321  100.913043\n",
       "4        2646  115.043478\n",
       "5        3124  135.826087\n",
       "6        4605  200.217391\n",
       "7        3095  134.565217"
      ]
     },
     "execution_count": 17,
     "metadata": {},
     "output_type": "execute_result"
    }
   ],
   "source": [
    "# apply the conditions to calculate the average items for each weekday\n",
    "conditions = [\n",
    "    (bread_groupby_weekday.index == 1),\n",
    "    (bread_groupby_weekday.index == 2),\n",
    "    (bread_groupby_weekday.index == 3),\n",
    "    (bread_groupby_weekday.index == 4),\n",
    "    (bread_groupby_weekday.index == 5),\n",
    "    (bread_groupby_weekday.index == 6),\n",
    "    (bread_groupby_weekday.index == 7)]\n",
    "\n",
    "choices = [bread_groupby_weekday.Item/21, bread_groupby_weekday.Item/23, bread_groupby_weekday.Item/23, bread_groupby_weekday.Item/23, bread_groupby_weekday.Item/23, bread_groupby_weekday.Item/23, bread_groupby_weekday.Item/23]\n",
    "\n",
    "bread_groupby_weekday[\"Average\"] = np.select(conditions, choices, default=0)\n",
    "bread_groupby_weekday"
   ]
  },
  {
   "cell_type": "markdown",
   "id": "c7d4b89a",
   "metadata": {},
   "source": [
    "Now we visualize the sales by weekday in chart which will help to understand better."
   ]
  },
  {
   "cell_type": "code",
   "execution_count": 18,
   "id": "e1523ed0",
   "metadata": {},
   "outputs": [
    {
     "data": {
      "image/png": "[encoded data removed]",
      "text/plain": [
       "<Figure size 864x360 with 1 Axes>"
      ]
     },
     "metadata": {
      "needs_background": "light"
     },
     "output_type": "display_data"
    }
   ],
   "source": [
    "bread_groupby_weekday.plot(y=\"Average\", figsize=(12,5), title=\"Average Number by Items Sold by Day of the Week\").set(xlabel=\"Day of the Week (1=Monday, 7=Sunday)\", ylabel=\"Average Number of Items Sold\")\n",
    "plt.show()"
   ]
  },
  {
   "cell_type": "markdown",
   "id": "621bbf6f",
   "metadata": {},
   "source": [
    "As weekend(friday,saturday and sunday) shows more in sales, the bakery can produce more in those days and reduce in the others days which will help in reduce loss. Another strategy is giving promotions in week days alone to increase the sales and attract more customers."
   ]
  },
  {
   "cell_type": "code",
   "execution_count": null,
   "id": "955f1217",
   "metadata": {},
   "outputs": [],
   "source": []
  }
 ],
 "metadata": {
  "kernelspec": {
   "display_name": "Python 3 (ipykernel)",
   "language": "python",
   "name": "python3"
  },
  "language_info": {
   "codemirror_mode": {
    "name": "ipython",
    "version": 3
   },
   "file_extension": ".py",
   "mimetype": "text/x-python",
   "name": "python",
   "nbconvert_exporter": "python",
   "pygments_lexer": "ipython3",
   "version": "3.9.12"
  }
 },
 "nbformat": 4,
 "nbformat_minor": 5
}
